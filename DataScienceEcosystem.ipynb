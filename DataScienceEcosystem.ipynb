{
 "cells": [
  {
   "cell_type": "markdown",
   "id": "5bcdfcfd-ed3e-40f0-99aa-c5df663d4f2c",
   "metadata": {
    "tags": []
   },
   "source": [
    "# Data Science Tools and Ecosystem"
   ]
  },
  {
   "cell_type": "markdown",
   "id": "d050c907-5c2c-43d5-92cc-c7827f86a70c",
   "metadata": {},
   "source": [
    "In this notebook, Data Science Tools and Ecosystem are summarized."
   ]
  },
  {
   "cell_type": "markdown",
   "id": "000317a9-9763-4053-8799-ec959c5a4b4c",
   "metadata": {},
   "source": [
    "Some of the popular languages that Data Scientist use are: \n",
    "1. Python \n",
    "2. SQL \n",
    "3. R \n",
    "4. Julia"
   ]
  },
  {
   "cell_type": "markdown",
   "id": "32660bca-9fd8-481e-a5d1-a2133d9dbbb1",
   "metadata": {},
   "source": [
    "Some of the commonly used libraries used by Data Scientist include:\n",
    "1. Numpy \n",
    "2. Keras\n",
    "3. Pandas \n",
    "4. Pytorch"
   ]
  },
  {
   "cell_type": "markdown",
   "id": "170ccca8-b8be-4c01-adc9-5df0b4b45f22",
   "metadata": {},
   "source": [
    "|Data Science Tools|\n",
    "|---|\n",
    "|Apache Spark|\n",
    "|SAS|\n",
    "|R|"
   ]
  },
  {
   "cell_type": "markdown",
   "id": "5a4c3f94-e469-4821-b452-f9d98ed515b1",
   "metadata": {},
   "source": [
    "### Below are a few examples of evaluating arithmetic expressions in python."
   ]
  },
  {
   "cell_type": "code",
   "execution_count": 5,
   "id": "4e5fe0bd-90fd-46b4-9f06-cfd555a1626b",
   "metadata": {
    "tags": []
   },
   "outputs": [
    {
     "data": {
      "text/plain": [
       "17"
      ]
     },
     "execution_count": 5,
     "metadata": {},
     "output_type": "execute_result"
    }
   ],
   "source": [
    "#this is a simple arithmetic expression to mutiply then add integers.\n",
    "(3*4)+5"
   ]
  },
  {
   "cell_type": "code",
   "execution_count": 6,
   "id": "23bcade9-3de0-43c3-b338-b1515fabc477",
   "metadata": {
    "tags": []
   },
   "outputs": [
    {
     "data": {
      "text/plain": [
       "3.3333333333333335"
      ]
     },
     "execution_count": 6,
     "metadata": {},
     "output_type": "execute_result"
    }
   ],
   "source": [
    "#this will convert 200 munites to hours by dividing by 60.\n",
    "200/60"
   ]
  },
  {
   "cell_type": "markdown",
   "id": "0f8ec133-8100-4214-a7f2-1ceabcc67f7b",
   "metadata": {},
   "source": [
    "__Objectives__\n",
    "* Create a Jupyter Notebook\n",
    "* Insert code and markdown cells\n",
    "* Share you notebook through Github"
   ]
  },
  {
   "cell_type": "markdown",
   "id": "d1e51629-b300-42a7-bdb5-8b5dcfb8efb7",
   "metadata": {},
   "source": [
    "## Author\n",
    "Bongani Mathew Miya"
   ]
  }
 ],
 "metadata": {
  "kernelspec": {
   "display_name": "Python",
   "language": "python",
   "name": "conda-env-python-py"
  },
  "language_info": {
   "codemirror_mode": {
    "name": "ipython",
    "version": 3
   },
   "file_extension": ".py",
   "mimetype": "text/x-python",
   "name": "python",
   "nbconvert_exporter": "python",
   "pygments_lexer": "ipython3",
   "version": "3.7.12"
  }
 },
 "nbformat": 4,
 "nbformat_minor": 5
}
